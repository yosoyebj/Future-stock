{
 "cells": [
  {
   "cell_type": "code",
   "execution_count": 2,
   "id": "83a985c5",
   "metadata": {},
   "outputs": [],
   "source": [
    "import pandas as pd"
   ]
  },
  {
   "cell_type": "code",
   "execution_count": 9,
   "id": "6d8540d7",
   "metadata": {},
   "outputs": [
    {
     "data": {
      "text/html": [
       "<div>\n",
       "<style scoped>\n",
       "    .dataframe tbody tr th:only-of-type {\n",
       "        vertical-align: middle;\n",
       "    }\n",
       "\n",
       "    .dataframe tbody tr th {\n",
       "        vertical-align: top;\n",
       "    }\n",
       "\n",
       "    .dataframe thead th {\n",
       "        text-align: right;\n",
       "    }\n",
       "</style>\n",
       "<table border=\"1\" class=\"dataframe\">\n",
       "  <thead>\n",
       "    <tr style=\"text-align: right;\">\n",
       "      <th></th>\n",
       "      <th>Close</th>\n",
       "      <th>high</th>\n",
       "      <th>Low</th>\n",
       "      <th>open</th>\n",
       "      <th>Volume</th>\n",
       "    </tr>\n",
       "  </thead>\n",
       "  <tbody>\n",
       "    <tr>\n",
       "      <th>0</th>\n",
       "      <td>1050.998779</td>\n",
       "      <td>1059.854968</td>\n",
       "      <td>1049.120169</td>\n",
       "      <td>1059.854968</td>\n",
       "      <td>366830</td>\n",
       "    </tr>\n",
       "    <tr>\n",
       "      <th>1</th>\n",
       "      <td>1064.995361</td>\n",
       "      <td>1069.743446</td>\n",
       "      <td>1053.083923</td>\n",
       "      <td>1053.249033</td>\n",
       "      <td>925740</td>\n",
       "    </tr>\n",
       "    <tr>\n",
       "      <th>2</th>\n",
       "      <td>1048.811279</td>\n",
       "      <td>1073.439363</td>\n",
       "      <td>1042.370355</td>\n",
       "      <td>1065.636025</td>\n",
       "      <td>1754242</td>\n",
       "    </tr>\n",
       "    <tr>\n",
       "      <th>3</th>\n",
       "      <td>1010.144714</td>\n",
       "      <td>1044.207060</td>\n",
       "      <td>1007.419686</td>\n",
       "      <td>1044.207060</td>\n",
       "      <td>2423784</td>\n",
       "    </tr>\n",
       "    <tr>\n",
       "      <th>4</th>\n",
       "      <td>998.212463</td>\n",
       "      <td>1023.583729</td>\n",
       "      <td>993.980475</td>\n",
       "      <td>1019.805945</td>\n",
       "      <td>2636332</td>\n",
       "    </tr>\n",
       "  </tbody>\n",
       "</table>\n",
       "</div>"
      ],
      "text/plain": [
       "         Close         high          Low         open   Volume\n",
       "0  1050.998779  1059.854968  1049.120169  1059.854968   366830\n",
       "1  1064.995361  1069.743446  1053.083923  1053.249033   925740\n",
       "2  1048.811279  1073.439363  1042.370355  1065.636025  1754242\n",
       "3  1010.144714  1044.207060  1007.419686  1044.207060  2423784\n",
       "4   998.212463  1023.583729   993.980475  1019.805945  2636332"
      ]
     },
     "execution_count": 9,
     "metadata": {},
     "output_type": "execute_result"
    }
   ],
   "source": [
    "df = pd.read_csv(\"TCS.csv\",skiprows =1)\n",
    "df.columns = [\"Close\",\"high\",\"Low\",\"open\",\"Volume\"]\n",
    "df.head()"
   ]
  },
  {
   "cell_type": "code",
   "execution_count": 10,
   "id": "7b314afe-fcc6-4e86-936f-c2249043f17c",
   "metadata": {},
   "outputs": [
    {
     "name": "stdout",
     "output_type": "stream",
     "text": [
      "<class 'pandas.core.frame.DataFrame'>\n",
      "RangeIndex: 2466 entries, 0 to 2465\n",
      "Data columns (total 5 columns):\n",
      " #   Column  Non-Null Count  Dtype  \n",
      "---  ------  --------------  -----  \n",
      " 0   Close   2466 non-null   float64\n",
      " 1   high    2466 non-null   float64\n",
      " 2   Low     2466 non-null   float64\n",
      " 3   open    2466 non-null   float64\n",
      " 4   Volume  2466 non-null   int64  \n",
      "dtypes: float64(4), int64(1)\n",
      "memory usage: 96.5 KB\n"
     ]
    }
   ],
   "source": [
    "df.info()"
   ]
  },
  {
   "cell_type": "code",
   "execution_count": 11,
   "id": "13f06b7d-b6ce-44d5-8867-13fe111d637e",
   "metadata": {},
   "outputs": [
    {
     "data": {
      "text/plain": [
       "Close     0\n",
       "high      0\n",
       "Low       0\n",
       "open      0\n",
       "Volume    0\n",
       "dtype: int64"
      ]
     },
     "execution_count": 11,
     "metadata": {},
     "output_type": "execute_result"
    }
   ],
   "source": [
    "df.isnull().sum()"
   ]
  },
  {
   "cell_type": "code",
   "execution_count": 13,
   "id": "d359cbc9-5ff8-4756-bba0-66d8f87e39ea",
   "metadata": {},
   "outputs": [],
   "source": [
    "df.fillna(df.mean(), inplace=True)"
   ]
  },
  {
   "cell_type": "code",
   "execution_count": 14,
   "id": "757b9046-ade5-40fc-a9e3-6c4b1385a6ed",
   "metadata": {},
   "outputs": [
    {
     "data": {
      "text/html": [
       "<div>\n",
       "<style scoped>\n",
       "    .dataframe tbody tr th:only-of-type {\n",
       "        vertical-align: middle;\n",
       "    }\n",
       "\n",
       "    .dataframe tbody tr th {\n",
       "        vertical-align: top;\n",
       "    }\n",
       "\n",
       "    .dataframe thead th {\n",
       "        text-align: right;\n",
       "    }\n",
       "</style>\n",
       "<table border=\"1\" class=\"dataframe\">\n",
       "  <thead>\n",
       "    <tr style=\"text-align: right;\">\n",
       "      <th></th>\n",
       "      <th>Close</th>\n",
       "      <th>high</th>\n",
       "      <th>Low</th>\n",
       "      <th>open</th>\n",
       "      <th>Volume</th>\n",
       "    </tr>\n",
       "  </thead>\n",
       "  <tbody>\n",
       "    <tr>\n",
       "      <th>count</th>\n",
       "      <td>2466.000000</td>\n",
       "      <td>2466.000000</td>\n",
       "      <td>2466.000000</td>\n",
       "      <td>2466.000000</td>\n",
       "      <td>2.466000e+03</td>\n",
       "    </tr>\n",
       "    <tr>\n",
       "      <th>mean</th>\n",
       "      <td>2215.227165</td>\n",
       "      <td>2237.241464</td>\n",
       "      <td>2193.677629</td>\n",
       "      <td>2215.936930</td>\n",
       "      <td>2.669150e+06</td>\n",
       "    </tr>\n",
       "    <tr>\n",
       "      <th>std</th>\n",
       "      <td>1044.827515</td>\n",
       "      <td>1053.621485</td>\n",
       "      <td>1036.498710</td>\n",
       "      <td>1044.840172</td>\n",
       "      <td>2.390096e+06</td>\n",
       "    </tr>\n",
       "    <tr>\n",
       "      <th>min</th>\n",
       "      <td>897.141724</td>\n",
       "      <td>913.730062</td>\n",
       "      <td>876.113422</td>\n",
       "      <td>903.866907</td>\n",
       "      <td>8.682200e+04</td>\n",
       "    </tr>\n",
       "    <tr>\n",
       "      <th>25%</th>\n",
       "      <td>1098.076477</td>\n",
       "      <td>1108.696974</td>\n",
       "      <td>1083.784990</td>\n",
       "      <td>1096.305008</td>\n",
       "      <td>1.639958e+06</td>\n",
       "    </tr>\n",
       "    <tr>\n",
       "      <th>50%</th>\n",
       "      <td>1924.338318</td>\n",
       "      <td>1947.453722</td>\n",
       "      <td>1899.869680</td>\n",
       "      <td>1925.555062</td>\n",
       "      <td>2.212441e+06</td>\n",
       "    </tr>\n",
       "    <tr>\n",
       "      <th>75%</th>\n",
       "      <td>3153.616516</td>\n",
       "      <td>3181.365013</td>\n",
       "      <td>3128.873014</td>\n",
       "      <td>3157.513391</td>\n",
       "      <td>3.090992e+06</td>\n",
       "    </tr>\n",
       "    <tr>\n",
       "      <th>max</th>\n",
       "      <td>4471.390137</td>\n",
       "      <td>4509.193819</td>\n",
       "      <td>4430.394634</td>\n",
       "      <td>4493.237112</td>\n",
       "      <td>8.806715e+07</td>\n",
       "    </tr>\n",
       "  </tbody>\n",
       "</table>\n",
       "</div>"
      ],
      "text/plain": [
       "             Close         high          Low         open        Volume\n",
       "count  2466.000000  2466.000000  2466.000000  2466.000000  2.466000e+03\n",
       "mean   2215.227165  2237.241464  2193.677629  2215.936930  2.669150e+06\n",
       "std    1044.827515  1053.621485  1036.498710  1044.840172  2.390096e+06\n",
       "min     897.141724   913.730062   876.113422   903.866907  8.682200e+04\n",
       "25%    1098.076477  1108.696974  1083.784990  1096.305008  1.639958e+06\n",
       "50%    1924.338318  1947.453722  1899.869680  1925.555062  2.212441e+06\n",
       "75%    3153.616516  3181.365013  3128.873014  3157.513391  3.090992e+06\n",
       "max    4471.390137  4509.193819  4430.394634  4493.237112  8.806715e+07"
      ]
     },
     "execution_count": 14,
     "metadata": {},
     "output_type": "execute_result"
    }
   ],
   "source": [
    "df.describe()"
   ]
  },
  {
   "cell_type": "code",
   "execution_count": 17,
   "id": "ff1911db-78d1-4934-b533-3216329e6a13",
   "metadata": {},
   "outputs": [
    {
     "data": {
      "text/plain": [
       "0"
      ]
     },
     "execution_count": 17,
     "metadata": {},
     "output_type": "execute_result"
    }
   ],
   "source": [
    "df.duplicated().sum()"
   ]
  },
  {
   "cell_type": "code",
   "execution_count": 18,
   "id": "3c07571c-b5f5-49d7-8d9a-90c6e4824f4b",
   "metadata": {},
   "outputs": [
    {
     "data": {
      "text/plain": [
       "Close     float64\n",
       "high      float64\n",
       "Low       float64\n",
       "open      float64\n",
       "Volume      int64\n",
       "dtype: object"
      ]
     },
     "execution_count": 18,
     "metadata": {},
     "output_type": "execute_result"
    }
   ],
   "source": [
    "df.dtypes"
   ]
  },
  {
   "cell_type": "code",
   "execution_count": null,
   "id": "d194aa9e-25d1-47c5-b3a0-1468ce9e883e",
   "metadata": {},
   "outputs": [],
   "source": [
    "duplicate_count ="
   ]
  }
 ],
 "metadata": {
  "kernelspec": {
   "display_name": "Python 3 (ipykernel)",
   "language": "python",
   "name": "python3"
  },
  "language_info": {
   "codemirror_mode": {
    "name": "ipython",
    "version": 3
   },
   "file_extension": ".py",
   "mimetype": "text/x-python",
   "name": "python",
   "nbconvert_exporter": "python",
   "pygments_lexer": "ipython3",
   "version": "3.9.21"
  }
 },
 "nbformat": 4,
 "nbformat_minor": 5
}
